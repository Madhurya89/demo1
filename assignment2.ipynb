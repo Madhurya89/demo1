{
  "nbformat": 4,
  "nbformat_minor": 0,
  "metadata": {
    "colab": {
      "name": "assignment2.ipynb",
      "provenance": []
    },
    "kernelspec": {
      "name": "python3",
      "display_name": "Python 3"
    }
  },
  "cells": [
    {
      "cell_type": "markdown",
      "metadata": {
        "id": "qoWXLNiXX6U4",
        "colab_type": "text"
      },
      "source": [
        "1. queue operation "
      ]
    },
    {
      "cell_type": "code",
      "metadata": {
        "id": "Z_bii6C-98rH",
        "colab_type": "code",
        "colab": {}
      },
      "source": [
        "que=[]\n",
        "que.append(20)\n",
        "que.append(30)\n",
        "que.append(40)\n",
        "que.append(50)\n"
      ],
      "execution_count": 0,
      "outputs": []
    },
    {
      "cell_type": "code",
      "metadata": {
        "id": "RBhWy8KxV0xp",
        "colab_type": "code",
        "colab": {
          "base_uri": "https://localhost:8080/",
          "height": 51
        },
        "outputId": "0720dc32-cd41-4476-b2f6-b2d578e19eef"
      },
      "source": [
        "print(que.pop(0))\n",
        "print(que)"
      ],
      "execution_count": 4,
      "outputs": [
        {
          "output_type": "stream",
          "text": [
            "20\n",
            "[30, 40, 50]\n"
          ],
          "name": "stdout"
        }
      ]
    },
    {
      "cell_type": "markdown",
      "metadata": {
        "id": "3pRc8vUcYCh2",
        "colab_type": "text"
      },
      "source": [
        "2. sum of interger & float"
      ]
    },
    {
      "cell_type": "code",
      "metadata": {
        "id": "3aaUPAUFWhai",
        "colab_type": "code",
        "colab": {
          "base_uri": "https://localhost:8080/",
          "height": 34
        },
        "outputId": "37a0279a-2bcb-470a-8fad-62677da87353"
      },
      "source": [
        "L1=[20,12,40,55]\n",
        "print(sum(L1))"
      ],
      "execution_count": 5,
      "outputs": [
        {
          "output_type": "stream",
          "text": [
            "127\n"
          ],
          "name": "stdout"
        }
      ]
    },
    {
      "cell_type": "code",
      "metadata": {
        "id": "-72BIAzZY--V",
        "colab_type": "code",
        "colab": {
          "base_uri": "https://localhost:8080/",
          "height": 34
        },
        "outputId": "598e74d9-64f8-492a-fc1e-249ad5b15a62"
      },
      "source": [
        "L2=[3.0,2.3,4.88,9.7]\n",
        "print(sum(L2))"
      ],
      "execution_count": 6,
      "outputs": [
        {
          "output_type": "stream",
          "text": [
            "19.88\n"
          ],
          "name": "stdout"
        }
      ]
    },
    {
      "cell_type": "markdown",
      "metadata": {
        "id": "gogCYnIHZXu3",
        "colab_type": "text"
      },
      "source": [
        "3. count the occurence of element"
      ]
    },
    {
      "cell_type": "code",
      "metadata": {
        "id": "r7ZwX-IHZJag",
        "colab_type": "code",
        "colab": {
          "base_uri": "https://localhost:8080/",
          "height": 34
        },
        "outputId": "70e9522e-5839-44a7-9e9d-61073daa63eb"
      },
      "source": [
        "string = \"good morning\"\n",
        "f = {} \n",
        "  \n",
        "for c in string: \n",
        "   if c in f: \n",
        "      f[c] += 1\n",
        "   else: \n",
        "      f[c] = 1\n",
        "print(f)"
      ],
      "execution_count": 18,
      "outputs": [
        {
          "output_type": "stream",
          "text": [
            "{'g': 2, 'o': 3, 'd': 1, ' ': 1, 'm': 1, 'r': 1, 'n': 2, 'i': 1}\n"
          ],
          "name": "stdout"
        }
      ]
    },
    {
      "cell_type": "markdown",
      "metadata": {
        "id": "F7LatQjA_R0a",
        "colab_type": "text"
      },
      "source": [
        "4. string extracting"
      ]
    },
    {
      "cell_type": "code",
      "metadata": {
        "id": "cxHP6lj1b0rv",
        "colab_type": "code",
        "colab": {
          "base_uri": "https://localhost:8080/",
          "height": 34
        },
        "outputId": "89fed203-69ee-4e3d-87a5-f63538ee45f8"
      },
      "source": [
        "s=list()\n",
        "s=[1,\"hi\",2,\"good\",3,\"afternoon\"]\n",
        "s2=list()\n",
        "for i in range(len(s)):\n",
        "    if(type(s[i])==str):\n",
        "      s2.append(s[i])\n",
        "print(s2)"
      ],
      "execution_count": 17,
      "outputs": [
        {
          "output_type": "stream",
          "text": [
            "['hi', 'good', 'afternoon']\n"
          ],
          "name": "stdout"
        }
      ]
    },
    {
      "cell_type": "code",
      "metadata": {
        "id": "0yFZFyZj3hHw",
        "colab_type": "code",
        "colab": {}
      },
      "source": [
        ""
      ],
      "execution_count": 0,
      "outputs": []
    }
  ]
}